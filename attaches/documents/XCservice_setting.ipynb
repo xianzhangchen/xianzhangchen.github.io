{
 "cells": [
  {
   "cell_type": "raw",
   "metadata": {},
   "source": [
    "---\n",
    "title: \"Environment Setting\"\n",
    "subtitle: \"A guide for convenience\"\n",
    "author: \"X.-Z. CHEN\"\n",
    "date: today\n",
    "format: \n",
    "    html:\n",
    "        code-fold: true\n",
    "jupyter: python3\n",
    "---"
   ]
  },
  {
   "cell_type": "markdown",
   "metadata": {},
   "source": [
    "## Service environment setting\n",
    "\n",
    "### Basic setting\n",
    "\n",
    "* 1. get the suitable version of anaconda, here python3.8, and then install it in your target folder\n",
    "```bash\n",
    "wget https://repo.anaconda.com/archive/Anaconda3-2020.07-Linux-x86_64.sh\n",
    "chmod +x Anaconda3-2020.07-Linux-x86_64.sh\n",
    "./Anaconda3-2020.07-Linux-x86_64.sh\n",
    "```\n",
    "* 2. if unix system don't link anaconda, then we should link the path by ourselves \n",
    "```bash\n",
    "cd /home/username/.bashrc\n",
    "export PATH=/home/anaconda3/bin:$PATH\n",
    "```\n",
    "\n",
    "* 3. here, we can install the packages (i.e., pyx and kwant for me) by the 'conda' or 'pip' package magnager\n",
    "```bash\n",
    "conda install tkwant -c conda-forge\n",
    "pip3 install kwant\n",
    "pip3 install pyx\n",
    "conda install -c conda-forge pybinding\n",
    "pip3 install --upgrade pyqula\n",
    "```\n",
    "\n",
    "### Submit tasks in batched and deal data in one-line-code way\n",
    "* 1. setting the workshop folder\n",
    "* 2. generate calculation programs\n",
    "* 3. submit programs\n",
    "* 4. deal data (all tasks finished)\n",
    "\n"
   ]
  },
  {
   "cell_type": "markdown",
   "metadata": {},
   "source": [
    "## Local computer environment setting\n",
    "### Windows\n",
    "* 1. get the suitable anaconda package \n",
    "* 2. install Microsoft C++ environment\n",
    "* 3. install jupyter-notebook editor (recommand vscode)"
   ]
  },
  {
   "cell_type": "code",
   "execution_count": null,
   "metadata": {},
   "outputs": [],
   "source": []
  }
 ],
 "metadata": {
  "kernelspec": {
   "display_name": "Python 3",
   "language": "python",
   "name": "python3"
  },
  "language_info": {
   "codemirror_mode": {
    "name": "ipython",
    "version": 3
   },
   "file_extension": ".py",
   "mimetype": "text/x-python",
   "name": "python",
   "nbconvert_exporter": "python",
   "pygments_lexer": "ipython3",
   "version": "3.8.18"
  }
 },
 "nbformat": 4,
 "nbformat_minor": 2
}
