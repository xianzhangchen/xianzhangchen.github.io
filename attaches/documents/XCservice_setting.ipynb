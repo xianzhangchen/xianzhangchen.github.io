{
 "cells": [
  {
   "cell_type": "raw",
   "metadata": {},
   "source": [
    "---\n",
    "title: \"Calculation environment setting\"\n",
    "subtitle: \"A guide\"\n",
    "author: \"X.-Z. CHEN\"\n",
    "date: today\n",
    "format: \n",
    "    html:\n",
    "        code-fold: true\n",
    "jupyter: python3\n",
    "---"
   ]
  },
  {
   "cell_type": "markdown",
   "metadata": {},
   "source": [
    "## Service environment setting\n",
    "\n",
    "### Basic setting\n",
    "\n",
    "* get the suitable version of anaconda, here python3.8, and then install it in your target folder\n",
    "```bash\n",
    "wget https://repo.anaconda.com/archive/Anaconda3-2020.07-Linux-x86_64.sh\n",
    "chmod +x Anaconda3-2020.07-Linux-x86_64.sh\n",
    "./Anaconda3-2020.07-Linux-x86_64.sh\n",
    "```\n",
    "* if unix system don't link anaconda, then we should link the path by ourselves \n",
    "```bash\n",
    "cd /home/username/.bashrc\n",
    "export PATH=/home/anaconda3/bin:$PATH\n",
    "```\n",
    "\n",
    "* here, we can install the packages (i.e., pyx and kwant for me) by the 'conda' or 'pip' package magnager\n",
    "1. tight-binding ([pybinding](https://docs.pybinding.site/en/stable/install/index.html),[pyqula](https://github.com/joselado/pyqula))\n",
    "```bash\n",
    "conda install -c conda-forge pybinding\n",
    "pip3 install --upgrade pyqula\n",
    "```\n",
    "2. quantum transport ([Kwant](https://kwant-project.org/install),[tkwant](https://tkwant.kwant-project.org/doc/dev/pre/installation.html))\n",
    "```bash\n",
    "conda install tkwant -c conda-forge\n",
    "pip3 install kwant\n",
    "```\n",
    "3. topological invariant\n",
    "```bash\n",
    "pip3 install pfapack\n",
    "```\n",
    "4. data plotting ([pyx](https://pyx-project.org/examples/index.html))\n",
    "```bash\n",
    "pip3 install pyx\n",
    "pip3 install pdf2image\n",
    "```\n",
    "\n",
    "Install 'MUMPS' (optional), using conda environment, [comda-forge/packages/mumps](https://anaconda.org/conda-forge/mumps)\n",
    "```bash\n",
    "conda install conda-forge::mumps\n",
    "conda install conda-forge/label/cf201901::mumps\n",
    "conda install conda-forge/label/cf202003::mumps\n",
    "conda install conda-forge/label/gcc7::mumps\n",
    "```\n",
    "if you are failed to install this package, just try the command lines one-by-one.\n",
    "\n",
    "\n"
   ]
  },
  {
   "cell_type": "markdown",
   "metadata": {},
   "source": [
    "### Submit tasks in batched and deal data in one-line-code way\n",
    "* setting the workshop folder\n",
    "* generate calculation programs\n",
    "* submit programs\n",
    "* deal data (all tasks finished)"
   ]
  },
  {
   "cell_type": "markdown",
   "metadata": {},
   "source": [
    "## Local computer environment setting\n",
    "### Windows\n",
    "* get the suitable anaconda package (i.e., [anaconda3.8.3](https://repo.anaconda.com/archive/Anaconda3-2020.07-Linux-x86_64.sh))\n",
    "* install Microsoft C++ environment\n",
    "* install jupyter-notebook editor (recommand vscode)"
   ]
  },
  {
   "cell_type": "code",
   "execution_count": null,
   "metadata": {},
   "outputs": [],
   "source": []
  },
  {
   "cell_type": "markdown",
   "metadata": {},
   "source": [
    "![test](figures/28.jpeg)"
   ]
  },
  {
   "cell_type": "code",
   "execution_count": null,
   "metadata": {},
   "outputs": [],
   "source": []
  }
 ],
 "metadata": {
  "kernelspec": {
   "display_name": "Python 3",
   "language": "python",
   "name": "python3"
  },
  "language_info": {
   "codemirror_mode": {
    "name": "ipython",
    "version": 3
   },
   "file_extension": ".py",
   "mimetype": "text/x-python",
   "name": "python",
   "nbconvert_exporter": "python",
   "pygments_lexer": "ipython3",
   "version": "3.8.18"
  }
 },
 "nbformat": 4,
 "nbformat_minor": 2
}
